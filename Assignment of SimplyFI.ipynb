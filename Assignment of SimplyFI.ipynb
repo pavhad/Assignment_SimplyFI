{
 "cells": [
  {
   "cell_type": "markdown",
   "metadata": {},
   "source": [
    "### Question 1\n",
    "write a python code for converting integer values to Indian currency notations, without\n",
    "using the currency libraries\n",
    "Example:\n",
    "input: 504678\n",
    "output: 5,04,67"
   ]
  },
  {
   "cell_type": "code",
   "execution_count": 90,
   "metadata": {},
   "outputs": [],
   "source": [
    "def format_currency(value_int):\n",
    "#     converting into String\n",
    "    value = str(value_int)\n",
    "    if value.find(\".\") > 0:\n",
    "#         number contain decimal\n",
    "        return '{}.{}'.format(number_format(value.split('.')[0]),value.split('.')[1])\n",
    "    else:\n",
    "        return '{}'.format(number_format(value))"
   ]
  },
  {
   "cell_type": "code",
   "execution_count": 18,
   "metadata": {},
   "outputs": [],
   "source": [
    "def number_format(value):\n",
    "    if len(value) <= 3:\n",
    "        return value\n",
    "    elif 3 < len(value) <= 5:\n",
    "        return '{},{}'.format(value[:-3],value[-3:])\n",
    "    else :\n",
    "        element = [value[-3:]]\n",
    "        value = value[:-3]\n",
    "        while value:\n",
    "            rem_ele = value[-2:]\n",
    "            element.append(rem_ele)\n",
    "            value = value[:-2]\n",
    "        return ','.join(element[::-1])\n",
    "        "
   ]
  },
  {
   "cell_type": "code",
   "execution_count": 94,
   "metadata": {},
   "outputs": [
    {
     "name": "stdout",
     "output_type": "stream",
     "text": [
      "ENTER THEN CURRENCY WHICH YOU WANT TO CONVERT\n",
      "504678\n",
      "YOUR FORMATTED CURRENCY ::  5,04,678\n"
     ]
    }
   ],
   "source": [
    "print('ENTER THEN CURRENCY WHICH YOU WANT TO CONVERT')\n",
    "value = str(input())\n",
    "print('YOUR FORMATTED CURRENCY :: ',format_currency(value))"
   ]
  },
  {
   "cell_type": "markdown",
   "metadata": {},
   "source": [
    "### Question 2\n",
    "You won’t get caught if you hide behind someone.”<br>\n",
    "Sang-Woo advises Gi-Hun to hide behind someone to avoid getting shot.<br>\n",
    "Gi-Hun follows Sang-Woo's advice and hides behind Ali, who saved his life earlier. Gi-Hun and Ali\n",
    "both have the same height, K<br>\n",
    ". Many players saw this trick and also started hiding behind Ali.<br>\n",
    "Now, there are N<br>\n",
    "players standing between Gi-Hun and Ali in a straight line, with the ith player having height Hi\n",
    ". Gi-Hun wants to know the minimum number of players who need to get shot so that Ali is visible\n",
    "in his line of sight.<br>\n",
    "Note:<br>\n",
    "• Line of sight is a straight line drawn between the topmost point of two objects. Ali is visible\n",
    "to Gi-Hun if nobody between them crosses this line. <br>\n",
    "• Even if there are some players who have the same height as that of Gi-Hun and Ali, Ali will\n",
    "be visible in Gi-Hun's line of sight.<br>\n",
    "• Gi-Hun and Ali have the same height.<br>\n",
    "Input Format\n",
    "• The first line of input contains a single integer T<br>\n",
    ", denoting the number of test cases. The description of T<br>\n",
    "• test cases follows.<br>\n",
    "• The first line of each test case contains two space-separated integers N and K<br>\n",
    "• , denoting the total number of players between Gi-Hun and Ali and the height of both of<br>\n",
    "them respectively.<br>\n",
    "• The second line of each test case contains N<br>\n",
    "• space-separated integers, denoting the heights of the players between Gi-Hun and Ali.<br>\n",
    "### Output Format\n",
    "For each test case, output in a single line the minimum number of players who need to get shot so\n",
    "that Ali is visible in Gi-Hun's line of sight.\n",
    "Constraints\n",
    "• 1≤T≤105<br>\n",
    "\n",
    "• 1≤N≤105<br>\n",
    "• 1≤K≤106<br>\n",
    "• 1≤Hi≤106 for every 1≤i≤N<br>\n",
    "• .\n",
    "• The sum of N across all test cases does not exceed 5⋅105\n",
    "• .\n",
    "### Sample Input 1\n",
    "3<br>\n",
    "4 10<br>\n",
    "2 13 4 16<br>\n",
    "5 8<br>\n",
    "9 3 8 8 4<br>\n",
    "4 6<br>\n",
    "1 2 3 4<br>\n",
    "\n",
    "### Sample Output 1\n",
    "2<br>\n",
    "1<br>\n",
    "0<br>\n",
    "### Explanation\n",
    "Test Case 1:<br> Gi-Hun and Ali have height 10<br>\n",
    ". For Ali to be visible to Gi-Hun, the second person (with height 13) and the fourth person (with\n",
    "height 16) need to get shot. Hence, the minimum number of players who need to get shot is 2<br>\n",
    ".\n",
    "Test Case 2: <br>Gi-Hun and Ali have height 8<br>\n",
    ". For Ali to be visible to Gi-Hun, the first person (with height 9) needs to get shot. Hence, the\n",
    "minimum number of players who need to get shot is 1<br>\n",
    ".\n",
    "Test Case 3:<br> Nobody needs to get shot because everyone is shorter than Gi-Hun and Ali.<br>"
   ]
  },
  {
   "cell_type": "code",
   "execution_count": 79,
   "metadata": {},
   "outputs": [
    {
     "name": "stdout",
     "output_type": "stream",
     "text": [
      "4\n",
      "4 10\n",
      "15 23 65 2\n",
      "2 15\n",
      "2 5\n",
      "3 10\n",
      "61 52 32\n",
      "3 56\n",
      "12 25 65\n",
      "**** OUTPUT ******\n",
      "3\n",
      "0\n",
      "3\n",
      "1\n"
     ]
    }
   ],
   "source": [
    "no_of_test_cases = int(input())\n",
    "input_list = []\n",
    "for x in range(no_of_test_cases*2):\n",
    "    input_list.append(str(input()).replace(\" \",','))\n",
    "sum = 0\n",
    "output = []\n",
    "for index in range(0,len(input_list),2):\n",
    "    no_of_player = input_list[index].split(',')[0]\n",
    "    height = input_list[index].split(',')[1]\n",
    "    count = 0\n",
    "    if int(no_of_player) == int(len(input_list[index+1].split(','))):\n",
    "        for height_of_person in input_list[index+1].split(','):\n",
    "            if int(height_of_person) > int(height):\n",
    "                count += 1\n",
    "                sum   += int(height_of_person)\n",
    "        output.append(count)\n",
    "    else:\n",
    "        print('INVALID INPUT')\n",
    "        break\n",
    "\n",
    "total_sum_height = 5*105\n",
    "if sum <= total_sum_height:\n",
    "    print('**** OUTPUT ******')\n",
    "    for x in output:\n",
    "        print(x)\n"
   ]
  }
 ],
 "metadata": {
  "kernelspec": {
   "display_name": "Python 3",
   "language": "python",
   "name": "python3"
  },
  "language_info": {
   "codemirror_mode": {
    "name": "ipython",
    "version": 3
   },
   "file_extension": ".py",
   "mimetype": "text/x-python",
   "name": "python",
   "nbconvert_exporter": "python",
   "pygments_lexer": "ipython3",
   "version": "3.6.5"
  }
 },
 "nbformat": 4,
 "nbformat_minor": 2
}
